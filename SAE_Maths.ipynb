{
 "cells": [
  {
   "cell_type": "markdown",
   "metadata": {
    "id": "gcd_eIkFGNZR"
   },
   "source": [
    "Importation des librairies et du dataset."
   ]
  },
  {
   "cell_type": "code",
   "execution_count": 1,
   "metadata": {},
   "outputs": [
    {
     "name": "stdout",
     "output_type": "stream",
     "text": [
      "Requirement already satisfied: pandas in c:\\python312\\lib\\site-packages (2.1.4)\n",
      "Requirement already satisfied: numpy<2,>=1.26.0 in c:\\python312\\lib\\site-packages (from pandas) (1.26.2)\n",
      "Requirement already satisfied: python-dateutil>=2.8.2 in c:\\users\\romai\\appdata\\roaming\\python\\python312\\site-packages (from pandas) (2.8.2)\n",
      "Requirement already satisfied: pytz>=2020.1 in c:\\python312\\lib\\site-packages (from pandas) (2023.3.post1)\n",
      "Requirement already satisfied: tzdata>=2022.1 in c:\\python312\\lib\\site-packages (from pandas) (2023.3)\n",
      "Requirement already satisfied: six>=1.5 in c:\\users\\romai\\appdata\\roaming\\python\\python312\\site-packages (from python-dateutil>=2.8.2->pandas) (1.16.0)\n",
      "Requirement already satisfied: spacy in c:\\python312\\lib\\site-packages (3.7.2)\n",
      "Requirement already satisfied: spacy-legacy<3.1.0,>=3.0.11 in c:\\python312\\lib\\site-packages (from spacy) (3.0.12)\n",
      "Requirement already satisfied: spacy-loggers<2.0.0,>=1.0.0 in c:\\python312\\lib\\site-packages (from spacy) (1.0.5)\n",
      "Requirement already satisfied: murmurhash<1.1.0,>=0.28.0 in c:\\python312\\lib\\site-packages (from spacy) (1.0.10)\n",
      "Requirement already satisfied: cymem<2.1.0,>=2.0.2 in c:\\python312\\lib\\site-packages (from spacy) (2.0.8)\n",
      "Requirement already satisfied: preshed<3.1.0,>=3.0.2 in c:\\python312\\lib\\site-packages (from spacy) (3.0.9)\n",
      "Requirement already satisfied: thinc<8.3.0,>=8.1.8 in c:\\python312\\lib\\site-packages (from spacy) (8.2.1)\n",
      "Requirement already satisfied: wasabi<1.2.0,>=0.9.1 in c:\\python312\\lib\\site-packages (from spacy) (1.1.2)\n",
      "Requirement already satisfied: srsly<3.0.0,>=2.4.3 in c:\\python312\\lib\\site-packages (from spacy) (2.4.8)\n",
      "Requirement already satisfied: catalogue<2.1.0,>=2.0.6 in c:\\python312\\lib\\site-packages (from spacy) (2.0.10)\n",
      "Requirement already satisfied: weasel<0.4.0,>=0.1.0 in c:\\python312\\lib\\site-packages (from spacy) (0.3.4)\n",
      "Requirement already satisfied: typer<0.10.0,>=0.3.0 in c:\\python312\\lib\\site-packages (from spacy) (0.9.0)\n",
      "Requirement already satisfied: smart-open<7.0.0,>=5.2.1 in c:\\python312\\lib\\site-packages (from spacy) (6.4.0)\n",
      "Requirement already satisfied: tqdm<5.0.0,>=4.38.0 in c:\\python312\\lib\\site-packages (from spacy) (4.66.1)\n",
      "Requirement already satisfied: requests<3.0.0,>=2.13.0 in c:\\python312\\lib\\site-packages (from spacy) (2.31.0)\n",
      "Requirement already satisfied: pydantic!=1.8,!=1.8.1,<3.0.0,>=1.7.4 in c:\\python312\\lib\\site-packages (from spacy) (2.5.2)\n",
      "Requirement already satisfied: jinja2 in c:\\python312\\lib\\site-packages (from spacy) (3.1.2)\n",
      "Requirement already satisfied: setuptools in c:\\python312\\lib\\site-packages (from spacy) (69.0.2)\n",
      "Requirement already satisfied: packaging>=20.0 in c:\\python312\\lib\\site-packages (from spacy) (23.2)\n",
      "Requirement already satisfied: langcodes<4.0.0,>=3.2.0 in c:\\python312\\lib\\site-packages (from spacy) (3.3.0)\n",
      "Requirement already satisfied: numpy>=1.19.0 in c:\\python312\\lib\\site-packages (from spacy) (1.26.2)\n",
      "Requirement already satisfied: annotated-types>=0.4.0 in c:\\python312\\lib\\site-packages (from pydantic!=1.8,!=1.8.1,<3.0.0,>=1.7.4->spacy) (0.6.0)\n",
      "Requirement already satisfied: pydantic-core==2.14.5 in c:\\python312\\lib\\site-packages (from pydantic!=1.8,!=1.8.1,<3.0.0,>=1.7.4->spacy) (2.14.5)\n",
      "Requirement already satisfied: typing-extensions>=4.6.1 in c:\\python312\\lib\\site-packages (from pydantic!=1.8,!=1.8.1,<3.0.0,>=1.7.4->spacy) (4.8.0)\n",
      "Requirement already satisfied: charset-normalizer<4,>=2 in c:\\python312\\lib\\site-packages (from requests<3.0.0,>=2.13.0->spacy) (3.3.2)\n",
      "Requirement already satisfied: idna<4,>=2.5 in c:\\python312\\lib\\site-packages (from requests<3.0.0,>=2.13.0->spacy) (3.6)\n",
      "Requirement already satisfied: urllib3<3,>=1.21.1 in c:\\python312\\lib\\site-packages (from requests<3.0.0,>=2.13.0->spacy) (2.1.0)\n",
      "Requirement already satisfied: certifi>=2017.4.17 in c:\\python312\\lib\\site-packages (from requests<3.0.0,>=2.13.0->spacy) (2023.11.17)\n",
      "Requirement already satisfied: blis<0.8.0,>=0.7.8 in c:\\python312\\lib\\site-packages (from thinc<8.3.0,>=8.1.8->spacy) (0.7.11)\n",
      "Requirement already satisfied: confection<1.0.0,>=0.0.1 in c:\\python312\\lib\\site-packages (from thinc<8.3.0,>=8.1.8->spacy) (0.1.4)\n",
      "Requirement already satisfied: colorama in c:\\python312\\lib\\site-packages (from tqdm<5.0.0,>=4.38.0->spacy) (0.4.6)\n",
      "Requirement already satisfied: click<9.0.0,>=7.1.1 in c:\\python312\\lib\\site-packages (from typer<0.10.0,>=0.3.0->spacy) (8.1.7)\n",
      "Requirement already satisfied: cloudpathlib<0.17.0,>=0.7.0 in c:\\python312\\lib\\site-packages (from weasel<0.4.0,>=0.1.0->spacy) (0.16.0)\n",
      "Requirement already satisfied: MarkupSafe>=2.0 in c:\\python312\\lib\\site-packages (from jinja2->spacy) (2.1.3)\n",
      "Collecting en-core-web-sm==3.7.1\n",
      "  Downloading https://github.com/explosion/spacy-models/releases/download/en_core_web_sm-3.7.1/en_core_web_sm-3.7.1-py3-none-any.whl (12.8 MB)\n",
      "     ---------------------------------------- 0.0/12.8 MB ? eta -:--:--\n",
      "     ---------------------------------------- 0.1/12.8 MB 1.6 MB/s eta 0:00:08\n",
      "     ---------------------------------------- 0.1/12.8 MB 1.3 MB/s eta 0:00:10\n",
      "      --------------------------------------- 0.2/12.8 MB 2.1 MB/s eta 0:00:06\n",
      "     - -------------------------------------- 0.3/12.8 MB 1.9 MB/s eta 0:00:07\n",
      "     - -------------------------------------- 0.6/12.8 MB 2.7 MB/s eta 0:00:05\n",
      "     -- ------------------------------------- 0.8/12.8 MB 3.1 MB/s eta 0:00:04\n",
      "     --- ------------------------------------ 1.0/12.8 MB 3.5 MB/s eta 0:00:04\n",
      "     --- ------------------------------------ 1.0/12.8 MB 3.5 MB/s eta 0:00:04\n",
      "     ---- ----------------------------------- 1.5/12.8 MB 4.0 MB/s eta 0:00:03\n",
      "     ---- ----------------------------------- 1.6/12.8 MB 3.5 MB/s eta 0:00:04\n",
      "     ------ --------------------------------- 1.9/12.8 MB 4.0 MB/s eta 0:00:03\n",
      "     ------ --------------------------------- 2.2/12.8 MB 4.1 MB/s eta 0:00:03\n",
      "     -------- ------------------------------- 2.6/12.8 MB 4.3 MB/s eta 0:00:03\n",
      "     --------- ------------------------------ 3.0/12.8 MB 4.6 MB/s eta 0:00:03\n",
      "     --------- ------------------------------ 3.0/12.8 MB 4.4 MB/s eta 0:00:03\n",
      "     ---------- ----------------------------- 3.5/12.8 MB 4.8 MB/s eta 0:00:02\n",
      "     ----------- ---------------------------- 3.8/12.8 MB 4.8 MB/s eta 0:00:02\n",
      "     ------------- -------------------------- 4.3/12.8 MB 5.2 MB/s eta 0:00:02\n",
      "     -------------- ------------------------- 4.8/12.8 MB 5.5 MB/s eta 0:00:02\n",
      "     ---------------- ----------------------- 5.1/12.8 MB 5.6 MB/s eta 0:00:02\n",
      "     ---------------- ----------------------- 5.4/12.8 MB 5.6 MB/s eta 0:00:02\n",
      "     ----------------- ---------------------- 5.4/12.8 MB 5.4 MB/s eta 0:00:02\n",
      "     ----------------- ---------------------- 5.6/12.8 MB 5.3 MB/s eta 0:00:02\n",
      "     ----------------- ---------------------- 5.8/12.8 MB 5.3 MB/s eta 0:00:02\n",
      "     ------------------- -------------------- 6.1/12.8 MB 5.3 MB/s eta 0:00:02\n",
      "     -------------------- ------------------- 6.5/12.8 MB 5.4 MB/s eta 0:00:02\n",
      "     -------------------- ------------------- 6.7/12.8 MB 5.4 MB/s eta 0:00:02\n",
      "     --------------------- ------------------ 6.8/12.8 MB 5.3 MB/s eta 0:00:02\n",
      "     --------------------- ------------------ 6.8/12.8 MB 5.3 MB/s eta 0:00:02\n",
      "     ---------------------- ----------------- 7.4/12.8 MB 5.3 MB/s eta 0:00:02\n",
      "     ----------------------- ---------------- 7.4/12.8 MB 5.2 MB/s eta 0:00:02\n",
      "     ----------------------- ---------------- 7.4/12.8 MB 5.0 MB/s eta 0:00:02\n",
      "     ------------------------ --------------- 7.9/12.8 MB 5.2 MB/s eta 0:00:01\n",
      "     ------------------------- -------------- 8.1/12.8 MB 5.1 MB/s eta 0:00:01\n",
      "     ------------------------- -------------- 8.3/12.8 MB 5.2 MB/s eta 0:00:01\n",
      "     -------------------------- ------------- 8.6/12.8 MB 5.2 MB/s eta 0:00:01\n",
      "     --------------------------- ------------ 8.9/12.8 MB 5.2 MB/s eta 0:00:01\n",
      "     ----------------------------- ---------- 9.3/12.8 MB 5.3 MB/s eta 0:00:01\n",
      "     ------------------------------ --------- 9.7/12.8 MB 5.3 MB/s eta 0:00:01\n",
      "     ------------------------------- -------- 10.0/12.8 MB 5.3 MB/s eta 0:00:01\n",
      "     ------------------------------- -------- 10.2/12.8 MB 5.4 MB/s eta 0:00:01\n",
      "     ------------------------------- -------- 10.2/12.8 MB 5.2 MB/s eta 0:00:01\n",
      "     -------------------------------- ------- 10.3/12.8 MB 5.3 MB/s eta 0:00:01\n",
      "     --------------------------------- ------ 10.8/12.8 MB 5.7 MB/s eta 0:00:01\n",
      "     ---------------------------------- ----- 11.1/12.8 MB 5.6 MB/s eta 0:00:01\n",
      "     ----------------------------------- ---- 11.4/12.8 MB 5.8 MB/s eta 0:00:01\n",
      "     ------------------------------------- -- 11.9/12.8 MB 5.9 MB/s eta 0:00:01\n",
      "     -------------------------------------- - 12.2/12.8 MB 5.9 MB/s eta 0:00:01\n",
      "     ---------------------------------------  12.7/12.8 MB 6.1 MB/s eta 0:00:01\n",
      "     ---------------------------------------  12.8/12.8 MB 6.1 MB/s eta 0:00:01\n",
      "     ---------------------------------------  12.8/12.8 MB 6.1 MB/s eta 0:00:01\n",
      "     ---------------------------------------- 12.8/12.8 MB 5.6 MB/s eta 0:00:00\n",
      "Requirement already satisfied: spacy<3.8.0,>=3.7.2 in c:\\python312\\lib\\site-packages (from en-core-web-sm==3.7.1) (3.7.2)\n",
      "Requirement already satisfied: spacy-legacy<3.1.0,>=3.0.11 in c:\\python312\\lib\\site-packages (from spacy<3.8.0,>=3.7.2->en-core-web-sm==3.7.1) (3.0.12)\n",
      "Requirement already satisfied: spacy-loggers<2.0.0,>=1.0.0 in c:\\python312\\lib\\site-packages (from spacy<3.8.0,>=3.7.2->en-core-web-sm==3.7.1) (1.0.5)\n",
      "Requirement already satisfied: murmurhash<1.1.0,>=0.28.0 in c:\\python312\\lib\\site-packages (from spacy<3.8.0,>=3.7.2->en-core-web-sm==3.7.1) (1.0.10)\n",
      "Requirement already satisfied: cymem<2.1.0,>=2.0.2 in c:\\python312\\lib\\site-packages (from spacy<3.8.0,>=3.7.2->en-core-web-sm==3.7.1) (2.0.8)\n",
      "Requirement already satisfied: preshed<3.1.0,>=3.0.2 in c:\\python312\\lib\\site-packages (from spacy<3.8.0,>=3.7.2->en-core-web-sm==3.7.1) (3.0.9)\n",
      "Requirement already satisfied: thinc<8.3.0,>=8.1.8 in c:\\python312\\lib\\site-packages (from spacy<3.8.0,>=3.7.2->en-core-web-sm==3.7.1) (8.2.1)\n",
      "Requirement already satisfied: wasabi<1.2.0,>=0.9.1 in c:\\python312\\lib\\site-packages (from spacy<3.8.0,>=3.7.2->en-core-web-sm==3.7.1) (1.1.2)\n",
      "Requirement already satisfied: srsly<3.0.0,>=2.4.3 in c:\\python312\\lib\\site-packages (from spacy<3.8.0,>=3.7.2->en-core-web-sm==3.7.1) (2.4.8)\n",
      "Requirement already satisfied: catalogue<2.1.0,>=2.0.6 in c:\\python312\\lib\\site-packages (from spacy<3.8.0,>=3.7.2->en-core-web-sm==3.7.1) (2.0.10)\n",
      "Requirement already satisfied: weasel<0.4.0,>=0.1.0 in c:\\python312\\lib\\site-packages (from spacy<3.8.0,>=3.7.2->en-core-web-sm==3.7.1) (0.3.4)\n",
      "Requirement already satisfied: typer<0.10.0,>=0.3.0 in c:\\python312\\lib\\site-packages (from spacy<3.8.0,>=3.7.2->en-core-web-sm==3.7.1) (0.9.0)\n",
      "Requirement already satisfied: smart-open<7.0.0,>=5.2.1 in c:\\python312\\lib\\site-packages (from spacy<3.8.0,>=3.7.2->en-core-web-sm==3.7.1) (6.4.0)\n",
      "Requirement already satisfied: tqdm<5.0.0,>=4.38.0 in c:\\python312\\lib\\site-packages (from spacy<3.8.0,>=3.7.2->en-core-web-sm==3.7.1) (4.66.1)\n",
      "Requirement already satisfied: requests<3.0.0,>=2.13.0 in c:\\python312\\lib\\site-packages (from spacy<3.8.0,>=3.7.2->en-core-web-sm==3.7.1) (2.31.0)\n",
      "Requirement already satisfied: pydantic!=1.8,!=1.8.1,<3.0.0,>=1.7.4 in c:\\python312\\lib\\site-packages (from spacy<3.8.0,>=3.7.2->en-core-web-sm==3.7.1) (2.5.2)\n",
      "Requirement already satisfied: jinja2 in c:\\python312\\lib\\site-packages (from spacy<3.8.0,>=3.7.2->en-core-web-sm==3.7.1) (3.1.2)\n",
      "Requirement already satisfied: setuptools in c:\\python312\\lib\\site-packages (from spacy<3.8.0,>=3.7.2->en-core-web-sm==3.7.1) (69.0.2)\n",
      "Requirement already satisfied: packaging>=20.0 in c:\\python312\\lib\\site-packages (from spacy<3.8.0,>=3.7.2->en-core-web-sm==3.7.1) (23.2)\n",
      "Requirement already satisfied: langcodes<4.0.0,>=3.2.0 in c:\\python312\\lib\\site-packages (from spacy<3.8.0,>=3.7.2->en-core-web-sm==3.7.1) (3.3.0)\n",
      "Requirement already satisfied: numpy>=1.19.0 in c:\\python312\\lib\\site-packages (from spacy<3.8.0,>=3.7.2->en-core-web-sm==3.7.1) (1.26.2)\n",
      "Requirement already satisfied: annotated-types>=0.4.0 in c:\\python312\\lib\\site-packages (from pydantic!=1.8,!=1.8.1,<3.0.0,>=1.7.4->spacy<3.8.0,>=3.7.2->en-core-web-sm==3.7.1) (0.6.0)\n",
      "Requirement already satisfied: pydantic-core==2.14.5 in c:\\python312\\lib\\site-packages (from pydantic!=1.8,!=1.8.1,<3.0.0,>=1.7.4->spacy<3.8.0,>=3.7.2->en-core-web-sm==3.7.1) (2.14.5)\n",
      "Requirement already satisfied: typing-extensions>=4.6.1 in c:\\python312\\lib\\site-packages (from pydantic!=1.8,!=1.8.1,<3.0.0,>=1.7.4->spacy<3.8.0,>=3.7.2->en-core-web-sm==3.7.1) (4.8.0)\n",
      "Requirement already satisfied: charset-normalizer<4,>=2 in c:\\python312\\lib\\site-packages (from requests<3.0.0,>=2.13.0->spacy<3.8.0,>=3.7.2->en-core-web-sm==3.7.1) (3.3.2)\n",
      "Requirement already satisfied: idna<4,>=2.5 in c:\\python312\\lib\\site-packages (from requests<3.0.0,>=2.13.0->spacy<3.8.0,>=3.7.2->en-core-web-sm==3.7.1) (3.6)\n",
      "Requirement already satisfied: urllib3<3,>=1.21.1 in c:\\python312\\lib\\site-packages (from requests<3.0.0,>=2.13.0->spacy<3.8.0,>=3.7.2->en-core-web-sm==3.7.1) (2.1.0)\n",
      "Requirement already satisfied: certifi>=2017.4.17 in c:\\python312\\lib\\site-packages (from requests<3.0.0,>=2.13.0->spacy<3.8.0,>=3.7.2->en-core-web-sm==3.7.1) (2023.11.17)\n",
      "Requirement already satisfied: blis<0.8.0,>=0.7.8 in c:\\python312\\lib\\site-packages (from thinc<8.3.0,>=8.1.8->spacy<3.8.0,>=3.7.2->en-core-web-sm==3.7.1) (0.7.11)\n",
      "Requirement already satisfied: confection<1.0.0,>=0.0.1 in c:\\python312\\lib\\site-packages (from thinc<8.3.0,>=8.1.8->spacy<3.8.0,>=3.7.2->en-core-web-sm==3.7.1) (0.1.4)\n",
      "Requirement already satisfied: colorama in c:\\python312\\lib\\site-packages (from tqdm<5.0.0,>=4.38.0->spacy<3.8.0,>=3.7.2->en-core-web-sm==3.7.1) (0.4.6)\n",
      "Requirement already satisfied: click<9.0.0,>=7.1.1 in c:\\python312\\lib\\site-packages (from typer<0.10.0,>=0.3.0->spacy<3.8.0,>=3.7.2->en-core-web-sm==3.7.1) (8.1.7)\n",
      "Requirement already satisfied: cloudpathlib<0.17.0,>=0.7.0 in c:\\python312\\lib\\site-packages (from weasel<0.4.0,>=0.1.0->spacy<3.8.0,>=3.7.2->en-core-web-sm==3.7.1) (0.16.0)\n",
      "Requirement already satisfied: MarkupSafe>=2.0 in c:\\python312\\lib\\site-packages (from jinja2->spacy<3.8.0,>=3.7.2->en-core-web-sm==3.7.1) (2.1.3)\n",
      "\u001b[38;5;2m✔ Download and installation successful\u001b[0m\n",
      "You can now load the package via spacy.load('en_core_web_sm')\n",
      "Requirement already satisfied: scikit-learn in c:\\python312\\lib\\site-packages (1.3.2)\n",
      "Requirement already satisfied: numpy<2.0,>=1.17.3 in c:\\python312\\lib\\site-packages (from scikit-learn) (1.26.2)\n",
      "Requirement already satisfied: scipy>=1.5.0 in c:\\python312\\lib\\site-packages (from scikit-learn) (1.11.4)\n",
      "Requirement already satisfied: joblib>=1.1.1 in c:\\python312\\lib\\site-packages (from scikit-learn) (1.3.2)\n",
      "Requirement already satisfied: threadpoolctl>=2.0.0 in c:\\python312\\lib\\site-packages (from scikit-learn) (3.2.0)\n"
     ]
    },
    {
     "name": "stderr",
     "output_type": "stream",
     "text": [
      "Python est introuvable. Ex�cutez sans argument pour proc�der � l\n"
     ]
    },
    {
     "name": "stdout",
     "output_type": "stream",
     "text": [
      "Requirement already satisfied: matplotlib in c:\\python312\\lib\\site-packages (3.8.2)\n",
      "Requirement already satisfied: contourpy>=1.0.1 in c:\\users\\romai\\appdata\\roaming\\python\\python312\\site-packages (from matplotlib) (1.2.0)\n",
      "Requirement already satisfied: cycler>=0.10 in c:\\users\\romai\\appdata\\roaming\\python\\python312\\site-packages (from matplotlib) (0.12.1)\n",
      "Requirement already satisfied: fonttools>=4.22.0 in c:\\python312\\lib\\site-packages (from matplotlib) (4.47.0)\n",
      "Requirement already satisfied: kiwisolver>=1.3.1 in c:\\python312\\lib\\site-packages (from matplotlib) (1.4.5)\n",
      "Requirement already satisfied: numpy<2,>=1.21 in c:\\python312\\lib\\site-packages (from matplotlib) (1.26.2)\n",
      "Requirement already satisfied: packaging>=20.0 in c:\\python312\\lib\\site-packages (from matplotlib) (23.2)\n",
      "Requirement already satisfied: pillow>=8 in c:\\python312\\lib\\site-packages (from matplotlib) (10.1.0)\n",
      "Requirement already satisfied: pyparsing>=2.3.1 in c:\\python312\\lib\\site-packages (from matplotlib) (3.1.1)\n",
      "Requirement already satisfied: python-dateutil>=2.7 in c:\\users\\romai\\appdata\\roaming\\python\\python312\\site-packages (from matplotlib) (2.8.2)\n",
      "Requirement already satisfied: six>=1.5 in c:\\users\\romai\\appdata\\roaming\\python\\python312\\site-packages (from python-dateutil>=2.7->matplotlib) (1.16.0)\n"
     ]
    }
   ],
   "source": [
    "!pip install pandas\n",
    "!pip install spacy\n",
    "!python -m spacy download en_core_web_sm\n",
    "!pip install scikit-learn\n",
    "!python3 -m spacy download en_core_web_sm\n",
    "!pip install matplotlib"
   ]
  },
  {
   "cell_type": "code",
   "execution_count": 2,
   "metadata": {
    "executionInfo": {
     "elapsed": 27895,
     "status": "ok",
     "timestamp": 1701944287863,
     "user": {
      "displayName": "Romain Gouraud",
      "userId": "02532941435331716181"
     },
     "user_tz": -60
    },
    "id": "kRDM3NBIZfeL"
   },
   "outputs": [],
   "source": [
    "import json\n",
    "import spacy\n",
    "from sklearn.svm import SVC\n",
    "from sklearn.feature_extraction.text import CountVectorizer\n",
    "from sklearn.model_selection import train_test_split\n",
    "from sklearn.naive_bayes import MultinomialNB\n",
    "from sklearn.metrics import accuracy_score, classification_report\n",
    "import pandas as pd\n",
    "from sklearn.neighbors import KNeighborsClassifier\n",
    "from sklearn.model_selection import cross_val_score\n",
    "import numpy as np\n",
    "from sklearn.metrics import confusion_matrix\n",
    "import matplotlib.pyplot as plt\n",
    "from sklearn.model_selection import GridSearchCV\n"
   ]
  },
  {
   "cell_type": "markdown",
   "metadata": {},
   "source": [
    "### Attention !  Si vous voulez tester le projet merci de faire attention de bien avoir le json dans le répertoire data et de pas changer son nom merci.\n",
    "\n",
    "Projet id: 21105 \\\n",
    "Project link : https://gitlab.univ-nantes.fr/E217817H/saeadmm\n"
   ]
  },
  {
   "cell_type": "markdown",
   "metadata": {
    "id": "dz6gf67qHiyG"
   },
   "source": [
    "# Partie 1 :Nettoyage des données.\n",
    "### Séparation des données et labélisation de celle-ci"
   ]
  },
  {
   "cell_type": "code",
   "execution_count": 3,
   "metadata": {
    "id": "mW40R9XrZxE2"
   },
   "outputs": [],
   "source": [
    "rawData = []\n",
    "with open(\"./data/image_review_all.json\") as fichier:\n",
    "    for line in fichier:\n",
    "        dataTempo = json.loads(line)\n",
    "        rawData.append({\n",
    "            \"id\": dataTempo.get('user_id') + \"_\" + dataTempo.get('business_id'),\n",
    "            \"business_id\": dataTempo.get('business_id'),\n",
    "            \"user_id\": dataTempo.get('user_id'),\n",
    "            \"rating\": dataTempo.get('rating'),\n",
    "            \"review_text\": dataTempo.get('review_text'),\n",
    "            \"label\": 'positif' if dataTempo.get('rating') > 2 else 'negatif'\n",
    "        })\n",
    "rawDF = pd.DataFrame(rawData)"
   ]
  },
  {
   "cell_type": "markdown",
   "metadata": {
    "id": "SKevTeE1H02i"
   },
   "source": [
    "### Séparation des données pour réaliser un apprentissage plus pertinent"
   ]
  },
  {
   "cell_type": "markdown",
   "metadata": {},
   "source": [
    "En effet, pour réaliser un apprentissage plus pertinent, nous avons fait le choix d'avoir un dataset composé de moitié par des avis positifs et donc l'autre moitié par des avis négatifs."
   ]
  },
  {
   "cell_type": "code",
   "execution_count": 4,
   "metadata": {
    "colab": {
     "base_uri": "https://localhost:8080/",
     "height": 247
    },
    "executionInfo": {
     "elapsed": 14,
     "status": "error",
     "timestamp": 1701944256467,
     "user": {
      "displayName": "Romain Gouraud",
      "userId": "02532941435331716181"
     },
     "user_tz": -60
    },
    "id": "XJwXb3W0aGH4",
    "outputId": "b03c386d-4ee5-42ed-dc2e-0e24b3cf8815"
   },
   "outputs": [
    {
     "name": "stdout",
     "output_type": "stream",
     "text": [
      "Taille du DataFrame =  (193308, 6)\n"
     ]
    },
    {
     "data": {
      "text/html": [
       "<div>\n",
       "<style scoped>\n",
       "    .dataframe tbody tr th:only-of-type {\n",
       "        vertical-align: middle;\n",
       "    }\n",
       "\n",
       "    .dataframe tbody tr th {\n",
       "        vertical-align: top;\n",
       "    }\n",
       "\n",
       "    .dataframe thead th {\n",
       "        text-align: right;\n",
       "    }\n",
       "</style>\n",
       "<table border=\"1\" class=\"dataframe\">\n",
       "  <thead>\n",
       "    <tr style=\"text-align: right;\">\n",
       "      <th></th>\n",
       "      <th>id</th>\n",
       "      <th>business_id</th>\n",
       "      <th>user_id</th>\n",
       "      <th>rating</th>\n",
       "      <th>review_text</th>\n",
       "      <th>label</th>\n",
       "    </tr>\n",
       "  </thead>\n",
       "  <tbody>\n",
       "    <tr>\n",
       "      <th>1459413</th>\n",
       "      <td>110934711920521036628_604088a37cd8bf130361dcf7</td>\n",
       "      <td>604088a37cd8bf130361dcf7</td>\n",
       "      <td>110934711920521036628</td>\n",
       "      <td>1</td>\n",
       "      <td>Why are you guys SO SLOW in the drive thru! Th...</td>\n",
       "      <td>negatif</td>\n",
       "    </tr>\n",
       "    <tr>\n",
       "      <th>1055668</th>\n",
       "      <td>116012958129422282207_6046b8efb0e2129e4753558b</td>\n",
       "      <td>6046b8efb0e2129e4753558b</td>\n",
       "      <td>116012958129422282207</td>\n",
       "      <td>5</td>\n",
       "      <td>We found this place from Chet Garners show The...</td>\n",
       "      <td>positif</td>\n",
       "    </tr>\n",
       "    <tr>\n",
       "      <th>1408465</th>\n",
       "      <td>108430402497176155594_604172957cd8bf1303625869</td>\n",
       "      <td>604172957cd8bf1303625869</td>\n",
       "      <td>108430402497176155594</td>\n",
       "      <td>5</td>\n",
       "      <td>Beautiful atmosphere, fantastic food, okay ser...</td>\n",
       "      <td>positif</td>\n",
       "    </tr>\n",
       "    <tr>\n",
       "      <th>394571</th>\n",
       "      <td>101062954353697495551_60510eaada79151bfc125676</td>\n",
       "      <td>60510eaada79151bfc125676</td>\n",
       "      <td>101062954353697495551</td>\n",
       "      <td>1</td>\n",
       "      <td>Beef taco was delicious the chicken taco with ...</td>\n",
       "      <td>negatif</td>\n",
       "    </tr>\n",
       "    <tr>\n",
       "      <th>734176</th>\n",
       "      <td>109035487472209572473_604b56a677e81aaed3cc93a2</td>\n",
       "      <td>604b56a677e81aaed3cc93a2</td>\n",
       "      <td>109035487472209572473</td>\n",
       "      <td>1</td>\n",
       "      <td>Worst McDonald's I have ever visited</td>\n",
       "      <td>negatif</td>\n",
       "    </tr>\n",
       "  </tbody>\n",
       "</table>\n",
       "</div>"
      ],
      "text/plain": [
       "                                                     id  \\\n",
       "1459413  110934711920521036628_604088a37cd8bf130361dcf7   \n",
       "1055668  116012958129422282207_6046b8efb0e2129e4753558b   \n",
       "1408465  108430402497176155594_604172957cd8bf1303625869   \n",
       "394571   101062954353697495551_60510eaada79151bfc125676   \n",
       "734176   109035487472209572473_604b56a677e81aaed3cc93a2   \n",
       "\n",
       "                      business_id                user_id  rating  \\\n",
       "1459413  604088a37cd8bf130361dcf7  110934711920521036628       1   \n",
       "1055668  6046b8efb0e2129e4753558b  116012958129422282207       5   \n",
       "1408465  604172957cd8bf1303625869  108430402497176155594       5   \n",
       "394571   60510eaada79151bfc125676  101062954353697495551       1   \n",
       "734176   604b56a677e81aaed3cc93a2  109035487472209572473       1   \n",
       "\n",
       "                                               review_text    label  \n",
       "1459413  Why are you guys SO SLOW in the drive thru! Th...  negatif  \n",
       "1055668  We found this place from Chet Garners show The...  positif  \n",
       "1408465  Beautiful atmosphere, fantastic food, okay ser...  positif  \n",
       "394571   Beef taco was delicious the chicken taco with ...  negatif  \n",
       "734176                Worst McDonald's I have ever visited  negatif  "
      ]
     },
     "execution_count": 4,
     "metadata": {},
     "output_type": "execute_result"
    }
   ],
   "source": [
    "positiveReviewDF = rawDF[rawDF['label'] == 'positif']\n",
    "negativeReviewDF = rawDF[rawDF['label'] == 'negatif']\n",
    "positiveReviewDF = positiveReviewDF.sample(frac=1, random_state=42)\n",
    "\n",
    "Data = pd.concat([negativeReviewDF, positiveReviewDF.head(min(len(negativeReviewDF), len(positiveReviewDF)))])\n",
    "Data = Data.dropna()\n",
    "Data = Data.sample(frac=1, random_state=42)\n",
    "\n",
    "print(\"Taille du DataFrame = \" ,Data.shape)\n",
    "Data.head()"
   ]
  },
  {
   "cell_type": "markdown",
   "metadata": {
    "id": "iA2P8p-eeXPV"
   },
   "source": [
    "Sélection de 5 000 données pour notre apprentissage, la tokenisation étant assez longue, nous ne pouvons pas prendre le dataset entier."
   ]
  },
  {
   "cell_type": "code",
   "execution_count": 5,
   "metadata": {
    "id": "doZOOX-5d45I"
   },
   "outputs": [],
   "source": [
    "DataForLearning = Data.head(5000)"
   ]
  },
  {
   "cell_type": "markdown",
   "metadata": {},
   "source": [
    "Les données étant maintenant nettoyées, nous allons pouvoir passer à la partie 2 : Mise en place de la classification avec une méthode vue en cours (deux \n",
    "classes à prédire)"
   ]
  },
  {
   "cell_type": "markdown",
   "metadata": {},
   "source": [
    "# Partie 2 : Mise en place de la classification avec un méthode vue en cours (deux classes à prédire)"
   ]
  },
  {
   "cell_type": "markdown",
   "metadata": {},
   "source": [
    "Pour notre apprentissage, nous utilisons spacy et plus particulièrement son module \"en_core_web_sm\" car nos avis sont exclusivement en anglais. Pour ce projet, la version small du module est suffisant."
   ]
  },
  {
   "cell_type": "code",
   "execution_count": 6,
   "metadata": {
    "colab": {
     "base_uri": "https://localhost:8080/"
    },
    "executionInfo": {
     "elapsed": 114170,
     "status": "ok",
     "timestamp": 1701780014884,
     "user": {
      "displayName": "Romain Gouraud",
      "userId": "02532941435331716181"
     },
     "user_tz": -60
    },
    "id": "vfiXNXoSejAF",
    "outputId": "809a5cff-208a-40e9-a64d-bf6f72cfa1d2"
   },
   "outputs": [
    {
     "data": {
      "text/plain": [
       "1459413      guy slow drive ! bad location dining area close\n",
       "1055668    find place Chet Garners daytripper . awesome p...\n",
       "1408465    beautiful atmosphere , fantastic food , okay s...\n",
       "394571     beef taco delicious chicken taco soft shell ho...\n",
       "734176                                  Worst McDonald visit\n",
       "                                 ...                        \n",
       "266120     delicious paczki . order online easy . navigat...\n",
       "620636     way price average food worth wait que .   orde...\n",
       "435578     time , german restaurant matter . order pretze...\n",
       "1429300    excellent CUISINE & AFFORDABLE & wide selectio...\n",
       "1273015    savannah beer good , shrimp grit bad wife Ther...\n",
       "Name: review_text, Length: 5000, dtype: object"
      ]
     },
     "execution_count": 6,
     "metadata": {},
     "output_type": "execute_result"
    }
   ],
   "source": [
    "nlp = spacy.load(\"en_core_web_sm\")\n",
    "def tokenisation(text):\n",
    "  return \" \".join([token.lemma_ for token in nlp(text) if not token.is_stop])\n",
    "DataForLearning[\"review_text\"].apply(tokenisation)"
   ]
  },
  {
   "cell_type": "markdown",
   "metadata": {},
   "source": [
    "### Première tentative pour la partie 2"
   ]
  },
  {
   "cell_type": "markdown",
   "metadata": {
    "id": "sT7jVeCWgPhg"
   },
   "source": [
    "Nous vectorisons ensuite nos review textes, pour cela, nous utilisons le CountVectorizer celui-ci convertit des textes en vecteurs numériques en comptant les occurrences de chaque mot, créant ainsi une représentation matricielle. Puis, nous utilisons trai_test_split comme vu en cours en effet celui-ci divise un ensemble de données en un ensemble d'entraînement et un ensemble de test, facilitant l'évaluation des performances des modèles d'apprentissage automatique en mesurant leur capacité à généraliser sur de nouvelles données. Nous utilisons cette technique pour tous nos classifier."
   ]
  },
  {
   "cell_type": "code",
   "execution_count": 7,
   "metadata": {
    "id": "cE-XXR0SgTId"
   },
   "outputs": [],
   "source": [
    "vectorizer = CountVectorizer()\n",
    "reviewVectorised = vectorizer.fit_transform(DataForLearning['review_text'])\n"
   ]
  },
  {
   "cell_type": "markdown",
   "metadata": {},
   "source": [
    "Pour notre première tentative nous utilisions MultinomialNB en effet celui-ci est le plus approprié pour la classification de textes basée sur des comptages, comme la fréquence des mots."
   ]
  },
  {
   "cell_type": "code",
   "execution_count": 8,
   "metadata": {
    "colab": {
     "base_uri": "https://localhost:8080/"
    },
    "executionInfo": {
     "elapsed": 241,
     "status": "ok",
     "timestamp": 1701784295304,
     "user": {
      "displayName": "Romain Gouraud",
      "userId": "02532941435331716181"
     },
     "user_tz": -60
    },
    "id": "tFdQvbZWic3d",
    "outputId": "8a16b027-e506-42e0-aa94-48aa491b0c27"
   },
   "outputs": [
    {
     "name": "stdout",
     "output_type": "stream",
     "text": [
      "Accuracy: 0.891\n",
      "Classification Report:\n",
      "               precision    recall  f1-score   support\n",
      "\n",
      "     negatif       0.88      0.91      0.90       518\n",
      "     positif       0.90      0.87      0.88       482\n",
      "\n",
      "    accuracy                           0.89      1000\n",
      "   macro avg       0.89      0.89      0.89      1000\n",
      "weighted avg       0.89      0.89      0.89      1000\n",
      "\n"
     ]
    }
   ],
   "source": [
    "trainX, testX, trainY, testY = train_test_split(reviewVectorised,DataForLearning[\"label\"] ,test_size=0.20)\n",
    "classifier = MultinomialNB()\n",
    "classifier.fit(trainX, trainY)\n",
    "\n",
    "# Make predictions on the test set\n",
    "predictions = classifier.predict(testX)\n",
    "\n",
    "# Evaluate the model\n",
    "accuracy = accuracy_score(testY, predictions)\n",
    "report = classification_report(testY, predictions)\n",
    "\n",
    "print(\"Accuracy:\", accuracy)\n",
    "print(\"Classification Report:\\n\", report)"
   ]
  },
  {
   "cell_type": "markdown",
   "metadata": {},
   "source": [
    "Pour visualiser de façon plus concrète, nous avons fait le choix de tester avec des phrases qui ne sont PAS dans le dataset original pour tester la prédiction en condition réelle."
   ]
  },
  {
   "cell_type": "code",
   "execution_count": 9,
   "metadata": {
    "colab": {
     "base_uri": "https://localhost:8080/"
    },
    "executionInfo": {
     "elapsed": 775,
     "status": "ok",
     "timestamp": 1701780435351,
     "user": {
      "displayName": "Romain Gouraud",
      "userId": "02532941435331716181"
     },
     "user_tz": -60
    },
    "id": "yvAXmUtSm9UZ",
    "outputId": "96e720f6-96a4-4140-87e5-6b68eb677aad"
   },
   "outputs": [
    {
     "name": "stdout",
     "output_type": "stream",
     "text": [
      "Sentence: The service was slow, and the food was tasteless.\n",
      "Predicted Sentiment: negatif\n",
      "\n",
      "Sentence: Amazing atmosphere and a diverse menu.\n",
      "Predicted Sentiment: positif\n",
      "\n",
      "Sentence: I would not recommend this place. The service was terrible.\n",
      "Predicted Sentiment: negatif\n",
      "\n",
      "Sentence: Delicious food and friendly staff.\n",
      "Predicted Sentiment: positif\n",
      "\n"
     ]
    }
   ],
   "source": [
    "test_sentences = [\n",
    "    \"The service was slow, and the food was tasteless.\",\n",
    "    \"Amazing atmosphere and a diverse menu.\",\n",
    "    \"I would not recommend this place. The service was terrible.\",\n",
    "    \"Delicious food and friendly staff.\",\n",
    "]\n",
    "\n",
    "\n",
    "processed_test_sentences = [\n",
    "    \" \".join([token.lemma_ for token in nlp(sentence) if not token.is_stop]) for sentence in test_sentences\n",
    "]\n",
    "\n",
    "test_sentences_vectorized = vectorizer.transform(processed_test_sentences)\n",
    "predictions_test = classifier.predict(test_sentences_vectorized)\n",
    "\n",
    "for sentence, prediction in zip(test_sentences, predictions_test):\n",
    "    print(f\"Sentence: {sentence}\")\n",
    "    print(f\"Predicted Sentiment: {prediction}\\n\")"
   ]
  },
  {
   "cell_type": "markdown",
   "metadata": {},
   "source": [
    "Les tests sont plus que concluants, mais pour réaliser la partie bonus, nous avons fait le choix de tester avec deux classifier différents."
   ]
  },
  {
   "cell_type": "markdown",
   "metadata": {
    "id": "hwUPP4WI9EQw"
   },
   "source": [
    "### Alternative à la première tentative pour la partie 2"
   ]
  },
  {
   "cell_type": "markdown",
   "metadata": {},
   "source": [
    "Pour cette première alternative, nous avons fait le choix d'utiliser KNN (k plus proche voisin) pour appliquer une technique utiliser en cours."
   ]
  },
  {
   "cell_type": "code",
   "execution_count": 20,
   "metadata": {
    "colab": {
     "base_uri": "https://localhost:8080/"
    },
    "executionInfo": {
     "elapsed": 639,
     "status": "ok",
     "timestamp": 1701784303005,
     "user": {
      "displayName": "Romain Gouraud",
      "userId": "02532941435331716181"
     },
     "user_tz": -60
    },
    "id": "LNYI2pHb-NE9",
    "outputId": "095a96b4-b7dd-4e46-cfe3-468b1b05942d"
   },
   "outputs": [
    {
     "name": "stdout",
     "output_type": "stream",
     "text": [
      "Meilleurs hyperparamètres: {'metric': 'euclidean', 'n_neighbors': 3, 'weights': 'uniform'}\n",
      "Précision avec les meilleurs hyperparamètres: 0.673\n",
      "Report               precision    recall  f1-score   support\n",
      "\n",
      "     negatif       0.83      0.43      0.56       496\n",
      "     positif       0.62      0.91      0.74       504\n",
      "\n",
      "    accuracy                           0.67      1000\n",
      "   macro avg       0.73      0.67      0.65      1000\n",
      "weighted avg       0.72      0.67      0.65      1000\n",
      "\n"
     ]
    }
   ],
   "source": [
    "trainX, testX, trainY, testY = train_test_split(reviewVectorised,DataForLearning[\"label\"] ,test_size=0.20)\n",
    "\n",
    "\n",
    "param_grid = {\n",
    "    'n_neighbors': [3, 5, 7, 9],\n",
    "    'weights': ['uniform', 'distance'],\n",
    "    'metric': ['euclidean', 'manhattan']\n",
    "}\n",
    "\n",
    "\n",
    "knn = KNeighborsClassifier()\n",
    "\n",
    "\n",
    "\n",
    "grid_search = GridSearchCV(knn, param_grid, cv=5, scoring='accuracy')\n",
    "grid_search.fit(trainX, trainY)\n",
    "\n",
    "\n",
    "print(\"Meilleurs hyperparamètres:\", grid_search.best_params_)\n",
    "\n",
    "\n",
    "knn_classifier = grid_search.best_estimator_\n",
    "\n",
    "\n",
    "predictions_knn = knn_classifier.predict(testX)\n",
    "\n",
    "\n",
    "accuracy_knn = accuracy_score(testY, predictions_knn)\n",
    "report_knn = classification_report(testY, predictions_knn)\n",
    "print(\"Précision avec les meilleurs hyperparamètres:\", accuracy_knn)\n",
    "print (\"Report\", report_knn)\n"
   ]
  },
  {
   "cell_type": "code",
   "execution_count": 11,
   "metadata": {
    "colab": {
     "base_uri": "https://localhost:8080/"
    },
    "executionInfo": {
     "elapsed": 235,
     "status": "ok",
     "timestamp": 1701784251167,
     "user": {
      "displayName": "Romain Gouraud",
      "userId": "02532941435331716181"
     },
     "user_tz": -60
    },
    "id": "6hcVHTme_xsE",
    "outputId": "97c1f075-27ad-4cd2-f3a5-6013296da5fa"
   },
   "outputs": [
    {
     "name": "stdout",
     "output_type": "stream",
     "text": [
      "Sentence: The service was slow, and the food was tasteless.\n",
      "Predicted Sentiment: positif\n",
      "\n",
      "Sentence: Amazing atmosphere and a diverse menu.\n",
      "Predicted Sentiment: positif\n",
      "\n",
      "Sentence: I would not recommend this place. The service was terrible.\n",
      "Predicted Sentiment: positif\n",
      "\n",
      "Sentence: Delicious food and friendly staff.\n",
      "Predicted Sentiment: positif\n",
      "\n"
     ]
    }
   ],
   "source": [
    "test_sentences = [\n",
    "    \"The service was slow, and the food was tasteless.\",\n",
    "    \"Amazing atmosphere and a diverse menu.\",\n",
    "    \"I would not recommend this place. The service was terrible.\",\n",
    "    \"Delicious food and friendly staff.\",\n",
    "]\n",
    "processed_test_sentences = [\n",
    "    \" \".join([token.lemma_ for token in nlp(sentence) if not token.is_stop]) for sentence in test_sentences\n",
    "]\n",
    "\n",
    "\n",
    "test_sentences_vectorized = vectorizer.transform(processed_test_sentences)\n",
    "\n",
    "\n",
    "predictions_test = knn_classifier.predict(test_sentences_vectorized)\n",
    "\n",
    "\n",
    "for sentence, prediction in zip(test_sentences, predictions_test):\n",
    "    print(f\"Sentence: {sentence}\")\n",
    "    print(f\"Predicted Sentiment: {prediction}\\n\")"
   ]
  },
  {
   "cell_type": "markdown",
   "metadata": {},
   "source": [
    "Après analyse des résultats pour les mêmes phrases et le même jeu de données d'apprentissage, le résultat est moins bon malgré un score d'accuracy d'environ 0.6-0.7"
   ]
  },
  {
   "cell_type": "markdown",
   "metadata": {
    "id": "xb8E7UYaAWN7"
   },
   "source": [
    "### Alternative 3 pour la partie 2 : Utilisation de SVC"
   ]
  },
  {
   "cell_type": "code",
   "execution_count": 12,
   "metadata": {
    "colab": {
     "base_uri": "https://localhost:8080/"
    },
    "executionInfo": {
     "elapsed": 4802,
     "status": "ok",
     "timestamp": 1701784334044,
     "user": {
      "displayName": "Romain Gouraud",
      "userId": "02532941435331716181"
     },
     "user_tz": -60
    },
    "id": "p3y8YSAVAVd_",
    "outputId": "82c4643a-9505-4141-adbf-6418da783f23"
   },
   "outputs": [
    {
     "name": "stdout",
     "output_type": "stream",
     "text": [
      "Accuracy (SVM): 0.881\n",
      "Classification Report (SVM):\n",
      "               precision    recall  f1-score   support\n",
      "\n",
      "     negatif       0.86      0.90      0.88       488\n",
      "     positif       0.90      0.87      0.88       512\n",
      "\n",
      "    accuracy                           0.88      1000\n",
      "   macro avg       0.88      0.88      0.88      1000\n",
      "weighted avg       0.88      0.88      0.88      1000\n",
      "\n"
     ]
    }
   ],
   "source": [
    "vectorizer = CountVectorizer()\n",
    "reviewVectorised = vectorizer.fit_transform(DataForLearning['review_text'])\n",
    "trainX, testX, trainY, testY = train_test_split(reviewVectorised,DataForLearning[\"label\"] ,test_size=0.20)\n",
    "\n",
    "svm_classifier = SVC(kernel='linear') \n",
    "svm_classifier.fit(trainX, trainY)\n",
    "\n",
    "predictions_svm = svm_classifier.predict(testX)\n",
    "accuracy_svm = accuracy_score(testY, predictions_svm)\n",
    "report_svm = classification_report(testY, predictions_svm)\n",
    "\n",
    "print(\"Accuracy (SVM):\", accuracy_svm)\n",
    "print(\"Classification Report (SVM):\\n\", report_svm)"
   ]
  },
  {
   "cell_type": "code",
   "execution_count": 13,
   "metadata": {
    "colab": {
     "base_uri": "https://localhost:8080/"
    },
    "executionInfo": {
     "elapsed": 240,
     "status": "ok",
     "timestamp": 1701783037274,
     "user": {
      "displayName": "Romain Gouraud",
      "userId": "02532941435331716181"
     },
     "user_tz": -60
    },
    "id": "4_m-_cCOK-Ei",
    "outputId": "d3994986-451e-4391-f0bb-e030643ee45e"
   },
   "outputs": [
    {
     "name": "stdout",
     "output_type": "stream",
     "text": [
      "Sentence: The service was slow, and the food was tasteless.\n",
      "Predicted Sentiment: negatif\n",
      "\n",
      "Sentence: Amazing atmosphere and a diverse menu.\n",
      "Predicted Sentiment: positif\n",
      "\n",
      "Sentence: I would not recommend this place. The service was terrible.\n",
      "Predicted Sentiment: negatif\n",
      "\n",
      "Sentence: Delicious food and friendly staff.\n",
      "Predicted Sentiment: positif\n",
      "\n"
     ]
    }
   ],
   "source": [
    "test_sentences = [\n",
    "    \"The service was slow, and the food was tasteless.\",\n",
    "    \"Amazing atmosphere and a diverse menu.\",\n",
    "    \"I would not recommend this place. The service was terrible.\",\n",
    "    \"Delicious food and friendly staff.\",\n",
    "]\n",
    "\n",
    "\n",
    "processed_test_sentences = [\n",
    "    \" \".join([token.lemma_ for token in nlp(sentence) if not token.is_stop]) for sentence in test_sentences\n",
    "]\n",
    "\n",
    "\n",
    "test_sentences_vectorized = vectorizer.transform(processed_test_sentences)\n",
    "\n",
    "\n",
    "predictions_test = svm_classifier.predict(test_sentences_vectorized)\n",
    "\n",
    "\n",
    "for sentence, prediction in zip(test_sentences, predictions_test):\n",
    "    print(f\"Sentence: {sentence}\")\n",
    "    print(f\"Predicted Sentiment: {prediction}\\n\")"
   ]
  },
  {
   "cell_type": "markdown",
   "metadata": {},
   "source": [
    "Après analyse des résultats, nous constatons un résultat plus que concluant, il est dans la tranche de prédiction du modèle MultinomialNB."
   ]
  },
  {
   "cell_type": "markdown",
   "metadata": {},
   "source": [
    "### Après avoir fait cet apprentissage, nous allons maintenant analyser nos résultats"
   ]
  },
  {
   "cell_type": "code",
   "execution_count": 14,
   "metadata": {},
   "outputs": [
    {
     "data": {
      "image/png": "[encoded data removed]",
      "text/plain": [
       "<Figure size 1200x800 with 1 Axes>"
      ]
     },
     "metadata": {},
     "output_type": "display_data"
    }
   ],
   "source": [
    "models = ['SVC', 'KNN', 'MultinomialNB']\n",
    "reports = [report_svm, report_knn, report]\n",
    "accuracies = [accuracy_svm, accuracy_knn, accuracy]\n",
    "\n",
    "precision_pos = []\n",
    "precision_neg = []\n",
    "\n",
    "for model, report in zip(models, reports):\n",
    "    lines = report.split('\\n')\n",
    "    \n",
    "    for line in lines[2: (len(lines) - 5)]:\n",
    "        s = line.split()\n",
    "        if len(s) >= 2:\n",
    "            if s[0] == 'positif':\n",
    "                precision_pos.append(float(s[1]))\n",
    "            elif s[0] == 'negatif':\n",
    "                precision_neg.append(float(s[1]))\n",
    "\n",
    "\n",
    "width = 0.3\n",
    "x = np.arange(len(models))\n",
    "\n",
    "fig, ax = plt.subplots(figsize=(12, 8))\n",
    "\n",
    "\n",
    "ax.bar(x - width/2, precision_pos, width, label='Precision Positif')\n",
    "ax.bar(x + width/2, precision_neg, width, label='Precision Négatif')\n",
    "ax.bar(x, accuracies, width, label='Accuracy', alpha=0.7, color='black')\n",
    "\n",
    "ax.set_xticks(x)\n",
    "ax.set_xticklabels(models)\n",
    "ax.set_ylabel('Scores')\n",
    "ax.set_title('Comparaison des métriques de classification par modèle et classe')\n",
    "ax.legend()\n",
    "\n",
    "plt.tight_layout()\n",
    "plt.show()\n"
   ]
  },
  {
   "cell_type": "markdown",
   "metadata": {},
   "source": [
    "Après analyse graphique, il est flagrant que SVC est le meilleur classifier dans notre cas."
   ]
  },
  {
   "cell_type": "markdown",
   "metadata": {
    "id": "PIQjx-7UMU23"
   },
   "source": [
    "# Partie 3"
   ]
  },
  {
   "cell_type": "markdown",
   "metadata": {
    "id": "gx0Wh-5HMYDh"
   },
   "source": [
    "Pour cette partie aussi, nous allons utiliser trois classifier pour répondre au bonus.\n",
    "\n",
    "\n",
    "### Première cas utilisation de MultinomialNB."
   ]
  },
  {
   "cell_type": "code",
   "execution_count": 15,
   "metadata": {
    "id": "W6s0Gm0yMZig"
   },
   "outputs": [],
   "source": [
    "trainX, testX, trainY, testY = train_test_split(reviewVectorised,DataForLearning[\"rating\"] ,test_size=0.20)"
   ]
  },
  {
   "cell_type": "code",
   "execution_count": 16,
   "metadata": {
    "colab": {
     "base_uri": "https://localhost:8080/"
    },
    "executionInfo": {
     "elapsed": 646,
     "status": "ok",
     "timestamp": 1701784719786,
     "user": {
      "displayName": "Romain Gouraud",
      "userId": "02532941435331716181"
     },
     "user_tz": -60
    },
    "id": "NnLK_JJNONSe",
    "outputId": "383bd7de-e886-4a4d-ea83-b8a13e306760"
   },
   "outputs": [
    {
     "name": "stdout",
     "output_type": "stream",
     "text": [
      "Accuracy: 0.626\n",
      "Classification Report:\n",
      "               precision    recall  f1-score   support\n",
      "\n",
      "           1       0.60      0.83      0.70       295\n",
      "           2       0.42      0.30      0.35       210\n",
      "           3       0.00      0.00      0.00        30\n",
      "           4       0.23      0.06      0.10       108\n",
      "           5       0.75      0.87      0.81       357\n",
      "\n",
      "    accuracy                           0.63      1000\n",
      "   macro avg       0.40      0.41      0.39      1000\n",
      "weighted avg       0.56      0.63      0.58      1000\n",
      "\n"
     ]
    },
    {
     "name": "stderr",
     "output_type": "stream",
     "text": [
      "c:\\Python312\\Lib\\site-packages\\sklearn\\metrics\\_classification.py:1471: UndefinedMetricWarning: Precision and F-score are ill-defined and being set to 0.0 in labels with no predicted samples. Use `zero_division` parameter to control this behavior.\n",
      "  _warn_prf(average, modifier, msg_start, len(result))\n",
      "c:\\Python312\\Lib\\site-packages\\sklearn\\metrics\\_classification.py:1471: UndefinedMetricWarning: Precision and F-score are ill-defined and being set to 0.0 in labels with no predicted samples. Use `zero_division` parameter to control this behavior.\n",
      "  _warn_prf(average, modifier, msg_start, len(result))\n",
      "c:\\Python312\\Lib\\site-packages\\sklearn\\metrics\\_classification.py:1471: UndefinedMetricWarning: Precision and F-score are ill-defined and being set to 0.0 in labels with no predicted samples. Use `zero_division` parameter to control this behavior.\n",
      "  _warn_prf(average, modifier, msg_start, len(result))\n"
     ]
    }
   ],
   "source": [
    "vectorizer = CountVectorizer()\n",
    "reviewVectorised = vectorizer.fit_transform(DataForLearning['review_text'])\n",
    "trainX, testX, trainY, testY = train_test_split(reviewVectorised,DataForLearning[\"rating\"] ,test_size=0.20)\n",
    "classifiernb3 = MultinomialNB()\n",
    "classifiernb3.fit(trainX, trainY)\n",
    "\n",
    "\n",
    "predictions_nb3 = classifiernb3.predict(testX)\n",
    "\n",
    "\n",
    "accuracy_nb3 = accuracy_score(testY, predictions_nb3)\n",
    "report_nb3 = classification_report(testY, predictions_nb3)\n",
    "\n",
    "print(\"Accuracy:\", accuracy_nb3)\n",
    "print(\"Classification Report:\\n\", report_nb3)"
   ]
  },
  {
   "cell_type": "code",
   "execution_count": 17,
   "metadata": {
    "colab": {
     "base_uri": "https://localhost:8080/"
    },
    "executionInfo": {
     "elapsed": 223,
     "status": "ok",
     "timestamp": 1701784738039,
     "user": {
      "displayName": "Romain Gouraud",
      "userId": "02532941435331716181"
     },
     "user_tz": -60
    },
    "id": "ehybxmhUOToH",
    "outputId": "ec29ee2e-2d20-4a39-864b-5b3e88864a50"
   },
   "outputs": [
    {
     "name": "stdout",
     "output_type": "stream",
     "text": [
      "Sentence: The service was slow, and the food was tasteless.\n",
      "Predicted Sentiment: 1\n",
      "\n",
      "Sentence: Amazing atmosphere and a diverse menu.\n",
      "Predicted Sentiment: 5\n",
      "\n",
      "Sentence: I would not recommend this place. The service was terrible.\n",
      "Predicted Sentiment: 1\n",
      "\n",
      "Sentence: Delicious food and friendly staff.\n",
      "Predicted Sentiment: 5\n",
      "\n"
     ]
    }
   ],
   "source": [
    "test_sentences = [\n",
    "    \"The service was slow, and the food was tasteless.\",\n",
    "    \"Amazing atmosphere and a diverse menu.\",\n",
    "    \"I would not recommend this place. The service was terrible.\",\n",
    "    \"Delicious food and friendly staff.\",\n",
    "]\n",
    "\n",
    "\n",
    "processed_test_sentences = [\n",
    "    \" \".join([token.lemma_ for token in nlp(sentence) if not token.is_stop]) for sentence in test_sentences\n",
    "]\n",
    "\n",
    "test_sentences_vectorized = vectorizer.transform(processed_test_sentences)\n",
    "predictions_test = classifiernb3.predict(test_sentences_vectorized)\n",
    "\n",
    "\n",
    "for sentence, prediction in zip(test_sentences, predictions_test):\n",
    "    print(f\"Sentence: {sentence}\")\n",
    "    print(f\"Predicted Sentiment: {prediction}\\n\")"
   ]
  },
  {
   "cell_type": "markdown",
   "metadata": {},
   "source": [
    "Les tests pour ce classifier sont concluants, cependant comme prévu la prédiction pour notes dites neutres (3) est quasiment impossible."
   ]
  },
  {
   "cell_type": "markdown",
   "metadata": {
    "id": "7R2WQLHpQYBx"
   },
   "source": [
    "### Alternative 2 à la partie 3 : Utilisation de la méthode KNN:"
   ]
  },
  {
   "cell_type": "code",
   "execution_count": 18,
   "metadata": {
    "colab": {
     "base_uri": "https://localhost:8080/"
    },
    "executionInfo": {
     "elapsed": 1127,
     "status": "ok",
     "timestamp": 1701784755008,
     "user": {
      "displayName": "Romain Gouraud",
      "userId": "02532941435331716181"
     },
     "user_tz": -60
    },
    "id": "1dwEn-bFQfod",
    "outputId": "f5734b18-b996-42f2-eaa6-d6b66808e141"
   },
   "outputs": [
    {
     "name": "stdout",
     "output_type": "stream",
     "text": [
      "Meilleurs hyperparamètres: {'metric': 'euclidean', 'n_neighbors': 3, 'weights': 'uniform'}\n",
      "Précision avec les meilleurs hyperparamètres: 0.456\n",
      "Rapport knn:               precision    recall  f1-score   support\n",
      "\n",
      "           1       0.54      0.44      0.48       321\n",
      "           2       0.32      0.16      0.22       201\n",
      "           3       0.07      0.03      0.04        36\n",
      "           4       0.22      0.12      0.15       101\n",
      "           5       0.47      0.79      0.59       341\n",
      "\n",
      "    accuracy                           0.46      1000\n",
      "   macro avg       0.33      0.31      0.30      1000\n",
      "weighted avg       0.42      0.46      0.42      1000\n",
      "\n"
     ]
    }
   ],
   "source": [
    "vectorizer = CountVectorizer()\n",
    "reviewVectorised = vectorizer.fit_transform(DataForLearning['review_text'])\n",
    "trainX, testX, trainY, testY = train_test_split(reviewVectorised,DataForLearning[\"rating\"] ,test_size=0.20)\n",
    "\n",
    "\n",
    "param_grid = {\n",
    "    'n_neighbors': [1,3, 5, 7, 9],\n",
    "    'weights': ['uniform', 'distance'],\n",
    "    'metric': ['euclidean', 'manhattan']\n",
    "}\n",
    "\n",
    "knn = KNeighborsClassifier()\n",
    "\n",
    "\n",
    "grid_search = GridSearchCV(knn, param_grid, cv=5, scoring='accuracy')\n",
    "grid_search.fit(trainX, trainY)\n",
    "\n",
    "\n",
    "print(\"Meilleurs hyperparamètres:\", grid_search.best_params_)\n",
    "\n",
    "knn_classifier3 = grid_search.best_estimator_\n",
    "\n",
    "predictions_knn3 = knn_classifier3.predict(testX)\n",
    "\n",
    "accuracy_knn3 = accuracy_score(testY, predictions_knn3)\n",
    "report_knn3 = classification_report(testY, predictions_knn3)\n",
    "print(\"Précision avec les meilleurs hyperparamètres:\", accuracy_knn3)\n",
    "print(\"Rapport knn:\", report_knn3)"
   ]
  },
  {
   "cell_type": "markdown",
   "metadata": {},
   "source": [
    "Comme lors de la partie 2 ce classifier ne répond pas aux attentes fixées pour l'exercice, avec une prédiction plus que peu fiable. Suite à ce manque de résultat concluant, nous ne montrerons pas d'exemple."
   ]
  },
  {
   "cell_type": "markdown",
   "metadata": {
    "id": "WGTN-HdqRrdP"
   },
   "source": [
    "### Alternative 3 pour la partie 3 : Utilisation de SVC Linear"
   ]
  },
  {
   "cell_type": "code",
   "execution_count": 20,
   "metadata": {
    "colab": {
     "base_uri": "https://localhost:8080/"
    },
    "executionInfo": {
     "elapsed": 8726,
     "status": "ok",
     "timestamp": 1701786290698,
     "user": {
      "displayName": "Romain Gouraud",
      "userId": "02532941435331716181"
     },
     "user_tz": -60
    },
    "id": "8Mfo9GYjRya9",
    "outputId": "ffcef36e-4926-4b0e-da1f-67c0b5328c89"
   },
   "outputs": [
    {
     "name": "stdout",
     "output_type": "stream",
     "text": [
      "Accuracy (SVM): 0.621\n",
      "Classification Report (SVM):\n",
      "               precision    recall  f1-score   support\n",
      "\n",
      "           1       0.62      0.66      0.64       309\n",
      "           2       0.40      0.40      0.40       204\n",
      "           3       0.09      0.08      0.09        25\n",
      "           4       0.48      0.36      0.41       103\n",
      "           5       0.80      0.83      0.82       359\n",
      "\n",
      "    accuracy                           0.62      1000\n",
      "   macro avg       0.48      0.47      0.47      1000\n",
      "weighted avg       0.61      0.62      0.62      1000\n",
      "\n"
     ]
    }
   ],
   "source": [
    "vectorizer = CountVectorizer()\n",
    "reviewVectorised = vectorizer.fit_transform(DataForLearning['review_text'])\n",
    "trainX, testX, trainY, testY = train_test_split(reviewVectorised,DataForLearning[\"rating\"] ,test_size=0.20)\n",
    "\n",
    "svc3_classifier = SVC(kernel='linear')\n",
    "svc3_classifier.fit(trainX, trainY)\n",
    "\n",
    "\n",
    "predictions_svc3 = svc3_classifier.predict(testX)\n",
    "\n",
    "\n",
    "accuracy_svc3 = accuracy_score(testY, predictions_svc3)\n",
    "report_svc3 = classification_report(testY, predictions_svc3)\n",
    "\n",
    "print(\"Accuracy (SVM):\", accuracy_svc3)\n",
    "print(\"Classification Report (SVM):\\n\", report_svc3)"
   ]
  },
  {
   "cell_type": "markdown",
   "metadata": {},
   "source": [
    "Après analyse des résultats, nous pouvons conclure que ce classifier est peu fiable, mais reste notre second plus fiable avec en moyenne 3% de score d'accuracy de différence avec MultinomialNB."
   ]
  },
  {
   "cell_type": "code",
   "execution_count": 21,
   "metadata": {},
   "outputs": [
    {
     "data": {
      "image/png": "[encoded data removed]",
      "text/plain": [
       "<Figure size 1200x800 with 1 Axes>"
      ]
     },
     "metadata": {},
     "output_type": "display_data"
    }
   ],
   "source": [
    "import matplotlib.pyplot as plt\n",
    "import numpy as np\n",
    "\n",
    "\n",
    "models = ['SVC', 'KNN', 'MultinomialNB']\n",
    "reports = [report_svc3, report_knn3, report_nb3]\n",
    "\n",
    "\n",
    "colors = ['blue', 'green', 'orange']\n",
    "\n",
    "\n",
    "accuracy_pos = {model: [] for model in models}\n",
    "classes = []\n",
    "\n",
    "for i, model in enumerate(models):\n",
    "    lines = reports[i].split('\\n')\n",
    "    \n",
    "    \n",
    "    for line in lines[2: (len(lines) - 5)]:\n",
    "        s = line.split()\n",
    "        if len(s) >= 2:\n",
    "            if i == 0:  \n",
    "                classes.append(s[0])\n",
    "            accuracy_pos[model].append(float(s[1]))\n",
    "\n",
    "\n",
    "x = np.arange(len(classes))\n",
    "\n",
    "plt.figure(figsize=(12, 8))\n",
    "\n",
    "for i, model in enumerate(models):\n",
    "    plt.plot(x, accuracy_pos[model], label=f'{model} - Accuracy', color=colors[i])\n",
    "\n",
    "plt.xlabel('Classe')\n",
    "plt.ylabel('Accuracy')\n",
    "plt.title('Courbes d\\'Accuracy pour différents modèles et classes')\n",
    "plt.xticks(x, classes)\n",
    "plt.legend()\n",
    "plt.show()\n"
   ]
  },
  {
   "cell_type": "markdown",
   "metadata": {},
   "source": [
    "# Partie 4 : Bonus"
   ]
  },
  {
   "cell_type": "markdown",
   "metadata": {},
   "source": [
    "Cette partie a été réalisée tout au long des parties 2 et 3. Via l'utilisation de différents classifier."
   ]
  },
  {
   "cell_type": "markdown",
   "metadata": {},
   "source": [
    "À partir de la documentation, j'ai tenté de résumer au mieux comment fonctionnent les différents classifier: \\\n",
    " KNN fonctionne en trouvant les voisins les plus proches dans l'espace des caractéristiques pour prédire la classe d'un point, adapté à des données de dimensions moyennes à élevées. \\\n",
    " SVC cherche un hyperplan optimal de séparation entre les classes, adapté aux problèmes de classification linéaire et non linéaire. \\\n",
    " MultinomialNB, quant à lui, repose sur le théorème de Bayes et est particulièrement utile pour les données textuelles, modélisant la distribution multinomiale des caractéristiques"
   ]
  },
  {
   "cell_type": "markdown",
   "metadata": {},
   "source": []
  }
 ],
 "metadata": {
  "colab": {
   "provenance": []
  },
  "kernelspec": {
   "display_name": "Python 3 (ipykernel)",
   "language": "python",
   "name": "python3"
  },
  "language_info": {
   "codemirror_mode": {
    "name": "ipython",
    "version": 3
   },
   "file_extension": ".py",
   "mimetype": "text/x-python",
   "name": "python",
   "nbconvert_exporter": "python",
   "pygments_lexer": "ipython3",
   "version": "3.12.0"
  }
 },
 "nbformat": 4,
 "nbformat_minor": 1
}
